{
 "cells": [
  {
   "cell_type": "code",
   "execution_count": 1,
   "metadata": {},
   "outputs": [],
   "source": [
    "import steamdata\n",
    "import pandas as pd"
   ]
  },
  {
   "cell_type": "code",
   "execution_count": 2,
   "metadata": {},
   "outputs": [
    {
     "name": "stdout",
     "output_type": "stream",
     "text": [
      "Loading idprocessed_on_20230930.txt\n",
      "Creating idprocessed_on_20230930.txt\n",
      "Downloading reviews for appID = 2586870\n",
      "[appID = 2586870] expected #reviews = 52\n",
      "[appID = 2586870] num_reviews = 52 (expected: 52)\n",
      "Downloading reviews for appID = 1497440\n",
      "[appID = 1497440] expected #reviews = 109\n",
      "[appID = 1497440] num_reviews = 106 (expected: 109)\n",
      "Downloading reviews for appID = 1036240\n",
      "[appID = 1036240] expected #reviews = 553\n",
      "[appID = 1036240] num_reviews = 553 (expected: 553)\n",
      "Downloading reviews for appID = 1902690\n",
      "[appID = 1902690] expected #reviews = 239\n",
      "[appID = 1902690] num_reviews = 239 (expected: 239)\n",
      "Downloading reviews for appID = 1607250\n",
      "[appID = 1607250] expected #reviews = 1278\n",
      "[appID = 1607250] num_reviews = 1260 (expected: 1278)\n",
      "Game records written: 5\n"
     ]
    }
   ],
   "source": [
    "app_ids = [2586870, 1497440, 1036240, 1902690, 1607250]\n",
    "df = pd.DataFrame(steamdata.get_data(app_ids))"
   ]
  },
  {
   "cell_type": "code",
   "execution_count": 4,
   "metadata": {},
   "outputs": [
    {
     "data": {
      "text/plain": [
       "0       My friend who I play CS:GO with said if I post...\n",
       "1       I really loved playing through the prologue! P...\n",
       "2       Soul's Spectrum: Awakening is a game that real...\n",
       "3       The traps and puzzles in the game are so varie...\n",
       "4       Soul's Spectrum: Awakening is a free prequel t...\n",
       "                              ...                        \n",
       "2205    Tutorial was fire, game is currently under mai...\n",
       "2206                                               gatcha\n",
       "2207         First review lol\\n\\nits pretty good tho LMAO\n",
       "2208                                            super fun\n",
       "2209                                Toga Himiko kinda hot\n",
       "Name: review, Length: 2210, dtype: object"
      ]
     },
     "execution_count": 4,
     "metadata": {},
     "output_type": "execute_result"
    }
   ],
   "source": [
    "df"
   ]
  }
 ],
 "metadata": {
  "kernelspec": {
   "display_name": "Python 3",
   "language": "python",
   "name": "python3"
  },
  "language_info": {
   "codemirror_mode": {
    "name": "ipython",
    "version": 3
   },
   "file_extension": ".py",
   "mimetype": "text/x-python",
   "name": "python",
   "nbconvert_exporter": "python",
   "pygments_lexer": "ipython3",
   "version": "3.8.7"
  },
  "orig_nbformat": 4
 },
 "nbformat": 4,
 "nbformat_minor": 2
}
