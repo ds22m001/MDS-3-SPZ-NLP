{
 "cells": [
  {
   "cell_type": "code",
   "execution_count": 1,
   "metadata": {},
   "outputs": [],
   "source": [
    "import steamdata\n",
    "import preprocess\n",
    "import pandas as pd\n",
    "import database"
   ]
  },
  {
   "cell_type": "code",
   "execution_count": 2,
   "metadata": {},
   "outputs": [
    {
     "name": "stdout",
     "output_type": "stream",
     "text": [
      "['730', '2195250', '1091500', '2138330', '32470', '1086940', '1938090', '1627720', '1716740', '1599340', '1260320', '1172620', '306130', '949230', '236390', '1272080', '899770', '359550', '1675200', '570', '1172470', '2362300', '2080690', '2531820', '1084160', '381210', '230410', '1937780', '271590', '1971870', '1551360', '1248130', '1282100', '1244460', '594650', '2440510', '39210', '1326470', '1158310', '394360', '582660', '2290180', '1902690', '33909', '1151340', '1085660', '1449850', '703080', '252490', '27500', '1501750', '1059530', '916440', '124923', '578080', '292030', '255710', '5699', '518790', '2108330', '294100', '10422', '1222670', '1702010', '1289670', '438040', '32454', '427520', '2248760', '1607250', '227300', '1250410', '1286830', '440900', '1096900', '5702', '2230110', '16852', '15456', '2172860', '1401590', '12261', '1063730', '1547000', '1008080', '284160', '962130', '26372', '266410', '2050650', '1985810', '444200', '289070', '25716', '1677740', '1599330', '990080', '1142710', '1273400', '12024']\n"
     ]
    }
   ],
   "source": [
    "app_ids = steamdata.get_app_ids()\n",
    "print(app_ids)"
   ]
  },
  {
   "cell_type": "code",
   "execution_count": 3,
   "metadata": {},
   "outputs": [
    {
     "ename": "NameError",
     "evalue": "name 'send_to_database' is not defined",
     "output_type": "error",
     "traceback": [
      "\u001b[1;31m---------------------------------------------------------------------------\u001b[0m",
      "\u001b[1;31mNameError\u001b[0m                                 Traceback (most recent call last)",
      "\u001b[1;32mc:\\Users\\Bernhard\\OneDrive - FH Technikum Wien\\MDS_3_WS2023\\NLP\\Project\\MDS-3-SPZ-NLP\\Presentation.ipynb Zelle 3\u001b[0m line \u001b[0;36m2\n\u001b[0;32m      <a href='vscode-notebook-cell:/c%3A/Users/Bernhard/OneDrive%20-%20FH%20Technikum%20Wien/MDS_3_WS2023/NLP/Project/MDS-3-SPZ-NLP/Presentation.ipynb#W2sZmlsZQ%3D%3D?line=0'>1</a>\u001b[0m \u001b[39m# update data\u001b[39;00m\n\u001b[1;32m----> <a href='vscode-notebook-cell:/c%3A/Users/Bernhard/OneDrive%20-%20FH%20Technikum%20Wien/MDS_3_WS2023/NLP/Project/MDS-3-SPZ-NLP/Presentation.ipynb#W2sZmlsZQ%3D%3D?line=1'>2</a>\u001b[0m steamdata\u001b[39m.\u001b[39;49mupdate_data()\n",
      "File \u001b[1;32mc:\\Users\\Bernhard\\OneDrive - FH Technikum Wien\\MDS_3_WS2023\\NLP\\Project\\MDS-3-SPZ-NLP\\steamdata.py:68\u001b[0m, in \u001b[0;36mupdate_data\u001b[1;34m()\u001b[0m\n\u001b[0;32m     66\u001b[0m df \u001b[39m=\u001b[39m get_data_from_steam(app_ids)\n\u001b[0;32m     67\u001b[0m data \u001b[39m=\u001b[39m get_data_cols(df)\n\u001b[1;32m---> 68\u001b[0m database\u001b[39m.\u001b[39msend_to_database(data)\n",
      "\u001b[1;31mNameError\u001b[0m: name 'send_to_database' is not defined"
     ]
    }
   ],
   "source": [
    "# update data\n",
    "steamdata.update_data()"
   ]
  },
  {
   "cell_type": "code",
   "execution_count": null,
   "metadata": {},
   "outputs": [],
   "source": [
    "# get data from database\n",
    "df = database.get_data_from_database()\n",
    "df"
   ]
  }
 ],
 "metadata": {
  "kernelspec": {
   "display_name": "Python 3",
   "language": "python",
   "name": "python3"
  },
  "language_info": {
   "codemirror_mode": {
    "name": "ipython",
    "version": 3
   },
   "file_extension": ".py",
   "mimetype": "text/x-python",
   "name": "python",
   "nbconvert_exporter": "python",
   "pygments_lexer": "ipython3",
   "version": "3.8.7"
  },
  "orig_nbformat": 4
 },
 "nbformat": 4,
 "nbformat_minor": 2
}
