{
 "cells": [
  {
   "cell_type": "code",
   "execution_count": 4,
   "metadata": {},
   "outputs": [],
   "source": [
    "# Imports\n",
    "\n",
    "import steamdata\n",
    "import preprocess\n",
    "import pandas as pd\n",
    "import database\n",
    "import preprocess\n",
    "from nltk import word_tokenize\n"
   ]
  },
  {
   "cell_type": "markdown",
   "metadata": {},
   "source": [
    "#### **1) DATA ACQUISITION**"
   ]
  },
  {
   "cell_type": "code",
   "execution_count": null,
   "metadata": {},
   "outputs": [],
   "source": [
    "# Gets top 100 -> DO NOT RUN\n",
    "\n",
    "app_ids = steamdata.get_app_ids() # -> Retrieves best 100 of top sellers weekly chart.\n",
    "steamdata.update_data() # -> Sends an API Call for each game, parses the response and saves in DB"
   ]
  },
  {
   "cell_type": "markdown",
   "metadata": {},
   "source": [
    "#### **2) PRE-PROCESSING**"
   ]
  },
  {
   "cell_type": "code",
   "execution_count": null,
   "metadata": {},
   "outputs": [],
   "source": [
    "# Gets data from database\n",
    "df = database.get_data_from_database()\n",
    "# Preprocess review\n",
    "df = preprocess.preProcessData(df)\n",
    "# Save in database clean review in additional column\n",
    "database.send_to_database(df)"
   ]
  },
  {
   "cell_type": "markdown",
   "metadata": {},
   "source": [
    "#### **3) EDA**"
   ]
  },
  {
   "cell_type": "code",
   "execution_count": 5,
   "metadata": {},
   "outputs": [],
   "source": [
    "df = database.get_data_from_database()\n",
    "df[\"review\"] = [word_tokenize(string) for string in df[\"review\"]]\n",
    "df[\"review_clean\"] = [word_tokenize(string) for string in df[\"review_clean\"]]"
   ]
  }
 ],
 "metadata": {
  "kernelspec": {
   "display_name": "Python 3",
   "language": "python",
   "name": "python3"
  },
  "language_info": {
   "codemirror_mode": {
    "name": "ipython",
    "version": 3
   },
   "file_extension": ".py",
   "mimetype": "text/x-python",
   "name": "python",
   "nbconvert_exporter": "python",
   "pygments_lexer": "ipython3",
   "version": "3.11.1"
  },
  "orig_nbformat": 4
 },
 "nbformat": 4,
 "nbformat_minor": 2
}
